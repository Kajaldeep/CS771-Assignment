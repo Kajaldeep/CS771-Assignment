{
  "cells": [
    {
      "cell_type": "code",
      "execution_count": 1,
      "metadata": {
        "id": "FTY1xcLbZrtp"
      },
      "outputs": [],
      "source": [
        "from submit import my_predict\n",
        "import numpy as np\n",
        "import pandas as pd\n",
        "import time as tm\n",
        "import os"
      ]
    },
    {
      "cell_type": "code",
      "execution_count": 2,
      "metadata": {
        "id": "TSa-d6ZXZz4G"
      },
      "outputs": [],
      "source": [
        "%load_ext autoreload\n",
        "%autoreload 2"
      ]
    },
    {
      "cell_type": "code",
      "execution_count": 3,
      "metadata": {
        "colab": {
          "base_uri": "https://localhost:8080/"
        },
        "id": "wXxob63qZ0nJ",
        "outputId": "72d551e2-b0df-45ee-8c14-d7d8d0045c08"
      },
      "outputs": [
        {
          "name": "stderr",
          "output_type": "stream",
          "text": [
            "c:\\Python310\\lib\\site-packages\\sklearn\\base.py:348: InconsistentVersionWarning: Trying to unpickle estimator DecisionTreeRegressor from version 1.2.2 when using version 1.3.2. This might lead to breaking code or invalid results. Use at your own risk. For more info please refer to:\n",
            "https://scikit-learn.org/stable/model_persistence.html#security-maintainability-limitations\n",
            "  warnings.warn(\n"
          ]
        },
        {
          "ename": "ValueError",
          "evalue": "node array from the pickle has an incompatible dtype:\n- expected: {'names': ['left_child', 'right_child', 'feature', 'threshold', 'impurity', 'n_node_samples', 'weighted_n_node_samples', 'missing_go_to_left'], 'formats': ['<i8', '<i8', '<i8', '<f8', '<f8', '<i8', '<f8', 'u1'], 'offsets': [0, 8, 16, 24, 32, 40, 48, 56], 'itemsize': 64}\n- got     : [('left_child', '<i8'), ('right_child', '<i8'), ('feature', '<i8'), ('threshold', '<f8'), ('impurity', '<f8'), ('n_node_samples', '<i8'), ('weighted_n_node_samples', '<f8')]",
          "output_type": "error",
          "traceback": [
            "\u001b[1;31m---------------------------------------------------------------------------\u001b[0m",
            "\u001b[1;31mValueError\u001b[0m                                Traceback (most recent call last)",
            "\u001b[1;32mc:\\Users\\user\\Documents\\AAAAAAAAAAAAAAAAAAAAAAA[1]\\CS771-Assignment\\Assignment3\\assn3\\eval_assn3_22_23_II.ipynb Cell 3\u001b[0m line \u001b[0;36m<cell line: 6>\u001b[1;34m()\u001b[0m\n\u001b[0;32m      <a href='vscode-notebook-cell:/c%3A/Users/user/Documents/AAAAAAAAAAAAAAAAAAAAAAA%5B1%5D/CS771-Assignment/Assignment3/assn3/eval_assn3_22_23_II.ipynb#W2sZmlsZQ%3D%3D?line=6'>7</a>\u001b[0m tic \u001b[39m=\u001b[39m tm\u001b[39m.\u001b[39mperf_counter()\n\u001b[0;32m      <a href='vscode-notebook-cell:/c%3A/Users/user/Documents/AAAAAAAAAAAAAAAAAAAAAAA%5B1%5D/CS771-Assignment/Assignment3/assn3/eval_assn3_22_23_II.ipynb#W2sZmlsZQ%3D%3D?line=7'>8</a>\u001b[0m df_feat \u001b[39m=\u001b[39m df_test\u001b[39m.\u001b[39mdrop( [ \u001b[39m\"\u001b[39m\u001b[39mOZONE\u001b[39m\u001b[39m\"\u001b[39m, \u001b[39m\"\u001b[39m\u001b[39mNO2\u001b[39m\u001b[39m\"\u001b[39m ], axis \u001b[39m=\u001b[39m \u001b[39m\"\u001b[39m\u001b[39mcolumns\u001b[39m\u001b[39m\"\u001b[39m )\n\u001b[1;32m----> <a href='vscode-notebook-cell:/c%3A/Users/user/Documents/AAAAAAAAAAAAAAAAAAAAAAA%5B1%5D/CS771-Assignment/Assignment3/assn3/eval_assn3_22_23_II.ipynb#W2sZmlsZQ%3D%3D?line=8'>9</a>\u001b[0m ( pred_o3, pred_no2 ) \u001b[39m=\u001b[39m my_predict( df_feat )\n\u001b[0;32m     <a href='vscode-notebook-cell:/c%3A/Users/user/Documents/AAAAAAAAAAAAAAAAAAAAAAA%5B1%5D/CS771-Assignment/Assignment3/assn3/eval_assn3_22_23_II.ipynb#W2sZmlsZQ%3D%3D?line=9'>10</a>\u001b[0m toc \u001b[39m=\u001b[39m tm\u001b[39m.\u001b[39mperf_counter()\n\u001b[0;32m     <a href='vscode-notebook-cell:/c%3A/Users/user/Documents/AAAAAAAAAAAAAAAAAAAAAAA%5B1%5D/CS771-Assignment/Assignment3/assn3/eval_assn3_22_23_II.ipynb#W2sZmlsZQ%3D%3D?line=10'>11</a>\u001b[0m t_test \u001b[39m+\u001b[39m\u001b[39m=\u001b[39m toc \u001b[39m-\u001b[39m tic\n",
            "File \u001b[1;32mc:\\Users\\user\\Documents\\AAAAAAAAAAAAAAAAAAAAAAA[1]\\CS771-Assignment\\Assignment3\\assn3\\submit.py:6\u001b[0m, in \u001b[0;36mmy_predict\u001b[1;34m(df)\u001b[0m\n\u001b[0;32m      4\u001b[0m \u001b[39mdef\u001b[39;00m \u001b[39mmy_predict\u001b[39m( df ):\n\u001b[0;32m      5\u001b[0m \t\u001b[39mwith\u001b[39;00m \u001b[39mopen\u001b[39m( \u001b[39m\"\u001b[39m\u001b[39mmodelRFNO2.pkl\u001b[39m\u001b[39m\"\u001b[39m, \u001b[39m\"\u001b[39m\u001b[39mrb\u001b[39m\u001b[39m\"\u001b[39m ) \u001b[39mas\u001b[39;00m file:\n\u001b[1;32m----> 6\u001b[0m \t\tmodelDTNO2 \u001b[39m=\u001b[39m pkl\u001b[39m.\u001b[39;49mload( file )\n\u001b[0;32m      7\u001b[0m \t\u001b[39mwith\u001b[39;00m \u001b[39mopen\u001b[39m( \u001b[39m\"\u001b[39m\u001b[39mmodelRFO3.pkl\u001b[39m\u001b[39m\"\u001b[39m, \u001b[39m\"\u001b[39m\u001b[39mrb\u001b[39m\u001b[39m\"\u001b[39m ) \u001b[39mas\u001b[39;00m file:\n\u001b[0;32m      8\u001b[0m \t\tmodelDTO3 \u001b[39m=\u001b[39m pkl\u001b[39m.\u001b[39mload( file )\n",
            "File \u001b[1;32msklearn\\tree\\_tree.pyx:728\u001b[0m, in \u001b[0;36msklearn.tree._tree.Tree.__setstate__\u001b[1;34m()\u001b[0m\n",
            "File \u001b[1;32msklearn\\tree\\_tree.pyx:1434\u001b[0m, in \u001b[0;36msklearn.tree._tree._check_node_ndarray\u001b[1;34m()\u001b[0m\n",
            "\u001b[1;31mValueError\u001b[0m: node array from the pickle has an incompatible dtype:\n- expected: {'names': ['left_child', 'right_child', 'feature', 'threshold', 'impurity', 'n_node_samples', 'weighted_n_node_samples', 'missing_go_to_left'], 'formats': ['<i8', '<i8', '<i8', '<f8', '<f8', '<i8', '<f8', 'u1'], 'offsets': [0, 8, 16, 24, 32, 40, 48, 56], 'itemsize': 64}\n- got     : [('left_child', '<i8'), ('right_child', '<i8'), ('feature', '<i8'), ('threshold', '<f8'), ('impurity', '<f8'), ('n_node_samples', '<i8'), ('weighted_n_node_samples', '<f8')]"
          ]
        }
      ],
      "source": [
        "df_test = pd.read_csv( \"dummy_test.csv\" )\n",
        "\n",
        "n_trials = 5\n",
        "t_test = 0\n",
        "\n",
        "for t in range( n_trials ):\n",
        "  tic = tm.perf_counter()\n",
        "  df_feat = df_test.drop( [ \"OZONE\", \"NO2\" ], axis = \"columns\" )\n",
        "  ( pred_o3, pred_no2 ) = my_predict( df_feat )\n",
        "  toc = tm.perf_counter()\n",
        "  t_test += toc - tic\n",
        "\n",
        "t_test /= n_trials"
      ]
    },
    {
      "cell_type": "code",
      "execution_count": null,
      "metadata": {
        "colab": {
          "base_uri": "https://localhost:8080/"
        },
        "id": "qtKmkybMbrvu",
        "outputId": "4205d354-a294-4143-d113-cc42a7fcb429"
      },
      "outputs": [],
      "source": [
        "gold_o3 = df_test[ \"OZONE\" ].to_numpy()\n",
        "gold_no2 = df_test[ \"NO2\" ].to_numpy()\n",
        "\n",
        "mae_o3 = np.mean( np.abs( pred_o3 - gold_o3 ) )\n",
        "mae_no2 = np.mean( np.abs( pred_no2 - gold_no2 ) )\n",
        "\n",
        "print( t_test, mae_o3, mae_no2 )"
      ]
    },
    {
      "cell_type": "code",
      "execution_count": null,
      "metadata": {},
      "outputs": [],
      "source": []
    }
  ],
  "metadata": {
    "colab": {
      "provenance": []
    },
    "kernelspec": {
      "display_name": "Python 3",
      "name": "python3"
    },
    "language_info": {
      "codemirror_mode": {
        "name": "ipython",
        "version": 3
      },
      "file_extension": ".py",
      "mimetype": "text/x-python",
      "name": "python",
      "nbconvert_exporter": "python",
      "pygments_lexer": "ipython3",
      "version": "3.10.5"
    }
  },
  "nbformat": 4,
  "nbformat_minor": 0
}
